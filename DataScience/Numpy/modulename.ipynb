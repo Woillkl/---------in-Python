{
 "cells": [
  {
   "cell_type": "code",
<<<<<<< HEAD:DataScience/test.ipynb
   "execution_count": 4,
=======
   "execution_count": 1,
>>>>>>> 2550e1409cbb9b1b8641f5fb8774b4f0e7f2b7a0:DataScience/Numpy/modulename.ipynb
   "metadata": {},
   "outputs": [
    {
     "name": "stdout",
     "output_type": "stream",
     "text": [
<<<<<<< HEAD:DataScience/test.ipynb
      "-1.2237239408616358\n",
      "a   -1.223724\n",
      "b    1.718504\n",
      "c    0.870511\n",
      "dtype: float64\n",
      "b    1.718504\n",
      "c    0.870511\n",
      "dtype: float64\n",
      "e    0.139837\n",
      "d    0.420102\n",
      "b    1.718504\n",
      "dtype: float64\n"
=======
      "[0 0 0 0 0 0]\n"
>>>>>>> 2550e1409cbb9b1b8641f5fb8774b4f0e7f2b7a0:DataScience/Numpy/modulename.ipynb
     ]
    }
   ],
   "source": [
<<<<<<< HEAD:DataScience/test.ipynb
    "for i in range (10) :\n",
    "    print(i)\n"
=======
    "import numpy as np # numpy를 사용하지 않고 np를 사용하면 된다 (aliasing)\n",
    "\n",
    "array1 = np.full(6, 0)\n",
    "\n",
    "print(array1)"
>>>>>>> 2550e1409cbb9b1b8641f5fb8774b4f0e7f2b7a0:DataScience/Numpy/modulename.ipynb
   ]
  }
 ],
 "metadata": {
<<<<<<< HEAD:DataScience/test.ipynb
  "interpreter": {
   "hash": "160a69d65af7d8e13b8bd92426e184aadc2c0b837a4e0f72de7c1afae7cbd632"
  },
=======
>>>>>>> 2550e1409cbb9b1b8641f5fb8774b4f0e7f2b7a0:DataScience/Numpy/modulename.ipynb
  "kernelspec": {
   "display_name": "Python 3.10.2 64-bit",
   "language": "python",
   "name": "python3"
  },
  "language_info": {
   "codemirror_mode": {
    "name": "ipython",
    "version": 3
   },
   "file_extension": ".py",
   "mimetype": "text/x-python",
   "name": "python",
   "nbconvert_exporter": "python",
   "pygments_lexer": "ipython3",
   "version": "3.10.2"
  },
  "orig_nbformat": 4,
  "vscode": {
   "interpreter": {
    "hash": "e5aed2c18211fc50f22ea52b153862026b098a9a9bfcd6d9f7c41ed89dad2846"
   }
  }
 },
 "nbformat": 4,
 "nbformat_minor": 2
}

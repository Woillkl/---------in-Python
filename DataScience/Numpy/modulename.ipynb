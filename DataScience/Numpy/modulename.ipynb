{
 "cells": [
  {
   "cell_type": "code",
   "execution_count": 1,
   "metadata": {},
   "outputs": [
    {
     "name": "stdout",
     "output_type": "stream",
     "text": [
      "[0 0 0 0 0 0]\n"
     ]
    }
   ],
   "source": [
    "import numpy as np # numpy를 사용하지 않고 np를 사용하면 된다 (aliasing)\n",
    "\n",
    "array1 = np.full(6, 0)\n",
    "print(array1)"
   ]
  }
 ],
 "metadata": {
  "kernelspec": {
   "display_name": "Python 3.8.2 32-bit",
   "language": "python",
   "name": "python3"
  },
  "language_info": {
   "codemirror_mode": {
    "name": "ipython",
    "version": 3
   },
   "file_extension": ".py",
   "mimetype": "text/x-python",
   "name": "python",
   "nbconvert_exporter": "python",
   "pygments_lexer": "ipython3",
   "version": "3.8.2"
  },
  "orig_nbformat": 4,
  "vscode": {
   "interpreter": {
    "hash": "e5aed2c18211fc50f22ea52b153862026b098a9a9bfcd6d9f7c41ed89dad2846"
   }
  }
 },
 "nbformat": 4,
 "nbformat_minor": 2
}

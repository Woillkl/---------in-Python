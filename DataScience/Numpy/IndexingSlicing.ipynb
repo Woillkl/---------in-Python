{
 "cells": [
  {
   "cell_type": "code",
   "execution_count": 1,
   "metadata": {},
   "outputs": [
    {
     "name": "stdout",
     "output_type": "stream",
     "text": [
      "2\n",
      "5\n",
      "31\n",
      "29\n",
      "[ 3  7 11]\n"
     ]
    }
   ],
   "source": [
    "# Indexing\n",
    "\n",
    "import numpy as np\n",
    "\n",
    "array1 = np.array([2, 3, 5, 7, 11, 13, 17, 19, 23, 29, 31])\n",
    "print(array1[0])\n",
    "print(array1[2])\n",
    "print(array1[-1])\n",
    "print(array1[-2])\n",
    "print(array1[[1,3,4]])"
   ]
  },
  {
   "cell_type": "code",
   "execution_count": 5,
   "metadata": {},
   "outputs": [
    {
     "name": "stdout",
     "output_type": "stream",
     "text": [
      "[5 3 7]\n",
      "[ 5  7 11 13 17]\n",
      "[ 2  3  5  7 11 13 17]\n",
      "[ 2  3  5  7 11 13 17]\n",
      "[ 5  7 11 13 17 19 23 29 31]\n",
      "[ 5 11 17 23 31]\n",
      "[ 5 13 23]\n"
     ]
    }
   ],
   "source": [
    "# Indexing\n",
    "\n",
    "array2 = np.array([2, 1, 3])\n",
    "print(array1[array2])\n",
    "\n",
    "print(array1[2:7])\n",
    "print(array1[0:7])\n",
    "print(array1[:7])\n",
    "print(array1[2:])\n",
    "print(array1[2:11:2])\n",
    "print(array1[2:11:3])"
   ]
  }
 ],
 "metadata": {
  "kernelspec": {
   "display_name": "Python 3.8.2 32-bit",
   "language": "python",
   "name": "python3"
  },
  "language_info": {
   "codemirror_mode": {
    "name": "ipython",
    "version": 3
   },
   "file_extension": ".py",
   "mimetype": "text/x-python",
   "name": "python",
   "nbconvert_exporter": "python",
   "pygments_lexer": "ipython3",
   "version": "3.8.2"
  },
  "orig_nbformat": 4,
  "vscode": {
   "interpreter": {
    "hash": "e5aed2c18211fc50f22ea52b153862026b098a9a9bfcd6d9f7c41ed89dad2846"
   }
  }
 },
 "nbformat": 4,
 "nbformat_minor": 2
}

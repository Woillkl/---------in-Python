{
 "cells": [
  {
   "cell_type": "code",
   "execution_count": 4,
   "metadata": {},
   "outputs": [
    {
     "name": "stdout",
     "output_type": "stream",
     "text": [
      "-1.2237239408616358\n",
      "a   -1.223724\n",
      "b    1.718504\n",
      "c    0.870511\n",
      "dtype: float64\n",
      "b    1.718504\n",
      "c    0.870511\n",
      "dtype: float64\n",
      "e    0.139837\n",
      "d    0.420102\n",
      "b    1.718504\n",
      "dtype: float64\n"
     ]
    }
   ],
   "source": [
    "for i in range (10) :\n",
    "    print(i)\n"
   ]
  }
 ],
 "metadata": {
  "interpreter": {
   "hash": "160a69d65af7d8e13b8bd92426e184aadc2c0b837a4e0f72de7c1afae7cbd632"
  },
  "kernelspec": {
   "display_name": "Python 3.10.2 64-bit",
   "language": "python",
   "name": "python3"
  },
  "language_info": {
   "codemirror_mode": {
    "name": "ipython",
    "version": 3
   },
   "file_extension": ".py",
   "mimetype": "text/x-python",
   "name": "python",
   "nbconvert_exporter": "python",
   "pygments_lexer": "ipython3",
   "version": "3.10.2"
  },
  "orig_nbformat": 4
 },
 "nbformat": 4,
 "nbformat_minor": 2
}

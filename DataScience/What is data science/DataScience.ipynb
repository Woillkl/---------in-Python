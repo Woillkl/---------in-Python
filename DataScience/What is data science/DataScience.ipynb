{
 "cells": [
  {
   "cell_type": "markdown",
   "metadata": {},
   "source": [
    "데이터 사이언스가 무엇인가?\n",
    "\n",
    "데이터 과학이란, 데이터 마이닝과 유사하게 정형, 비정형 형태를 포함한\n",
    "다양한 데이터로부터 지식과 인사이트를 추출하는데 과학적 방법론, 프로세스, 알고리즘, 시스템을 동원하는 융합분야다.\n",
    "=> 데이터 과학이란, 다양한 데이터로부터 지식과 인사이트를 추출하는 분야다.\n",
    "=> 데이터 사이언스는 데이터와 연관된 모든 것을 의미합니다."
   ]
  },
  {
   "cell_type": "markdown",
   "metadata": {},
   "source": [
    "데이터 사이언스에 대한 오해\n",
    "\n",
    "1. 데이터 사이언스에서 가장 중요한 것은 인공지능, 딥려닝이다. (데이터 사이언스에는 순서가 중요함)\n",
    "-> 데이터 사이언스의 과정\n",
    "    01 - 데이터를 모으는 과정\n",
    "    02 - 데이터를 옮기고 저장하는 과정   -> 01, 02, 03 을 묶어 데이터 엔지니어링이라고 한다.\n",
    "    03 - 데이터를 정리하는 과정\n",
    "    04 - 분석\n",
    "    05 - A/B 테스트\n",
    "    06 - 인공지능   -> 노력, 돈, 시간 대비 가치가 크지 않음\n",
    "\n",
    "2. 데이터 사이언티스트들은 왠지 하루종일 컴퓨터랑 수학만 하는 사람일 것 같다.\n",
    "-> 데이터 사이언스의 목표는 세상에 가치를 더할 수 있는 문제를 데이터로 해결 하는 것\n",
    "-> 의미있는 데이터를 모으기 위하여 인사이트를 길러야 하며 엔지니어 or 실무진들과 소통을 해야한다. (프로그래밍 실력 외 다른 분야도 중요함)"
   ]
  },
  {
   "cell_type": "markdown",
   "metadata": {},
   "source": [
    "왜 파이썬으로 데이터 사이언스?\n",
    "\n",
    "대표적으로 R 과 Pythono이 존재\n",
    "\n",
    "R\n",
    "- 통계를 위해 만들어진 언어\n",
    "- 데이터 분석의 도구가 잘 갖춰짐\n",
    "\n",
    "단점 : 통계와 시각화만을 위한 툴(R을 배운다고 해서 다른 언어 사용 어려움)\n",
    "\n",
    "Python\n",
    "- 다양한 용도로 만들어진 언어\n",
    "- 데이터 분석의 도구가 평범\n",
    "\n",
    "장점 : 다른 분야로 넘어갈 수 있다.(웹 개발 등)"
   ]
  },
  {
   "cell_type": "code",
   "execution_count": null,
   "metadata": {},
   "outputs": [],
   "source": [
    "# 선수과제\n",
    "def is_palindrome(word):\n",
    "    # 코드를 입력하세요.\n",
    "    isSame = True\n",
    "    if word[0:] == word[-1::-1] :\n",
    "        isSame = True\n",
    "    else :\n",
    "        isSame = False\n",
    "    return isSame\n",
    "# 테스트\n",
    "print(is_palindrome(\"racecar\"))\n",
    "print(is_palindrome(\"stars\"))\n",
    "print(is_palindrome(\"토마토\"))\n",
    "print(is_palindrome(\"kayak\"))\n",
    "print(is_palindrome(\"hello\"))"
   ]
  }
 ],
 "metadata": {
  "kernelspec": {
   "display_name": "Python 3.8.2 32-bit",
   "language": "python",
   "name": "python3"
  },
  "language_info": {
   "codemirror_mode": {
    "name": "ipython",
    "version": 3
   },
   "file_extension": ".py",
   "mimetype": "text/x-python",
   "name": "python",
   "nbconvert_exporter": "python",
   "pygments_lexer": "ipython3",
   "version": "3.8.2"
  },
  "orig_nbformat": 4,
  "vscode": {
   "interpreter": {
    "hash": "e5aed2c18211fc50f22ea52b153862026b098a9a9bfcd6d9f7c41ed89dad2846"
   }
  }
 },
 "nbformat": 4,
 "nbformat_minor": 2
}

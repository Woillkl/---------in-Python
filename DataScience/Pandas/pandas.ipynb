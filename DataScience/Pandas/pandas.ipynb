{
 "cells": [
  {
   "cell_type": "markdown",
   "metadata": {},
   "source": [
    "##### What is Pandas?\n",
    "\n",
    "**R**\n",
    "- 통계를 위해 만들어진 언어\n",
    "- 데이터 분석의 도구가 잘 갖춰짐\n",
    "\n",
    "**Python**\n",
    "- 다양한 용도로 만들어진 언어\n",
    "- 데이터 분석의 도구가 평범\n",
    "\n",
    "데이터 보관, 데이터 정리, 데이터 분석의 핵심적인 역할을 한것이 **DataFrame**이다.\n",
    "\n",
    "#### Numpy와 Pandas의 다른점\n",
    "Numpy는 Pandas를 활용하여 만들어짐\n",
    "\n",
    "Pandas는 표형식의 데이터를 다루는데 유리함"
   ]
  },
  {
   "cell_type": "markdown",
   "metadata": {},
   "source": [
    "##### Introduction of DataFrame\n",
    "\n",
    "**DataFrame**\n",
    "- 표형식의 데이터를 담는 자료형\n",
    "\n",
    "- Column : 데이터의 특징\n",
    "- Row : 레코드"
   ]
  },
  {
   "cell_type": "markdown",
   "metadata": {},
   "source": [
    "##### pandas의 dtype\n",
    "- int64 : 정수\n",
    "- float64 : 소수\n",
    "- object : 텍스트\n",
    "- bool : 불린(참과 거짓)\n",
    "- datetime64 : 날짜와 시간\n",
    "- category : 카테고리"
   ]
  }
 ],
 "metadata": {
  "kernelspec": {
   "display_name": "Python 3.8.2 32-bit",
   "language": "python",
   "name": "python3"
  },
  "language_info": {
   "name": "python",
   "version": "3.8.2"
  },
  "orig_nbformat": 4,
  "vscode": {
   "interpreter": {
    "hash": "e5aed2c18211fc50f22ea52b153862026b098a9a9bfcd6d9f7c41ed89dad2846"
   }
  }
 },
 "nbformat": 4,
 "nbformat_minor": 2
}

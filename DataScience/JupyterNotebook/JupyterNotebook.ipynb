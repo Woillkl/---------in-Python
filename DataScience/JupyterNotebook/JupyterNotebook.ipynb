{
 "cells": [
  {
   "cell_type": "markdown",
   "metadata": {},
   "source": [
    "##### IDE - Integrated Development Environment(통합 개발 환경)"
   ]
  },
  {
   "cell_type": "markdown",
   "metadata": {},
   "source": [
    "**단축키**\n",
    "\n",
    "* 프로그램 compile : ctrl + Enter\n",
    "* Cell 위에 추가 : A\n",
    "* Cell 아래에 추가 : B\n",
    "* Cell 실행 후 아래에 추가 : alt + Enter\n",
    "* Cell 실행 후 다음 Cell로 이동 : Shift + Enter\n",
    "* Cell 1개 삭제 : D 두번 연속\n",
    "* Cell 여러개 삭제 : Shft 누른 후 여러개의 Cell 선택후 D 두번 연속"
   ]
  }
 ],
 "metadata": {
  "kernelspec": {
   "display_name": "Python 3.8.2 32-bit",
   "language": "python",
   "name": "python3"
  },
  "language_info": {
   "codemirror_mode": {
    "name": "ipython",
    "version": 3
   },
   "file_extension": ".py",
   "mimetype": "text/x-python",
   "name": "python",
   "nbconvert_exporter": "python",
   "pygments_lexer": "ipython3",
   "version": "3.8.2"
  },
  "orig_nbformat": 4,
  "vscode": {
   "interpreter": {
    "hash": "e5aed2c18211fc50f22ea52b153862026b098a9a9bfcd6d9f7c41ed89dad2846"
   }
  }
 },
 "nbformat": 4,
 "nbformat_minor": 2
}
